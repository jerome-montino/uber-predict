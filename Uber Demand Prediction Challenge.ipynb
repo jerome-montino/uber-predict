{
 "cells": [
  {
   "cell_type": "markdown",
   "metadata": {},
   "source": [
    "<h1>Introduction</h1>"
   ]
  },
  {
   "cell_type": "markdown",
   "metadata": {},
   "source": [
    "Given a univariate time series containing the log-ins of users as proxy for actual demand, the task at hand is to create and/or use a statistical model that predicts the demand for Uber service vehicles at a particular hour on a future date. \n",
    "\n",
    "The source data is in the form of a JSON file and covers the period of 1st March 2012 to 30th April 2012, with data points in ISO-formatted UTC timestamps. The data itself is based on timestamps collected from the Washington DC area. There is no clear periodicity for this data, which leaves us with the freedom to resample it as needed.\n",
    "\n",
    "The target predictions are for the period of 1st May 2012 to 15th May 2012. Predictions should be made by the hour and stored in a CSV file. The output should also be in ISO-formatted UTC timestamps."
   ]
  },
  {
   "cell_type": "markdown",
   "metadata": {},
   "source": [
    "<h1>Methodology"
   ]
  },
  {
   "cell_type": "markdown",
   "metadata": {},
   "source": [
    "To better appreciate the data, we will be converting it to a more data-oriented format using the Pandas library. Based on how our data turns out, we will most probably use other libraries from or based on the SciPy stack. Certain statistical models that are meant for prediction might come into play as well, such as linear or Poisson regression."
   ]
  },
  {
   "cell_type": "markdown",
   "metadata": {},
   "source": [
    "<h1>Execution"
   ]
  },
  {
   "cell_type": "markdown",
   "metadata": {},
   "source": [
    "We transform the given JSON file into a Pandas DataFrame. This will allow us to carry out data analysis faster on it."
   ]
  },
  {
   "cell_type": "code",
   "execution_count": 258,
   "metadata": {
    "collapsed": false
   },
   "outputs": [
    {
     "data": {
      "text/html": [
       "<div style=\"max-height:1000px;max-width:1500px;overflow:auto;\">\n",
       "<table border=\"1\" class=\"dataframe\">\n",
       "  <thead>\n",
       "    <tr style=\"text-align: right;\">\n",
       "      <th></th>\n",
       "      <th>0</th>\n",
       "    </tr>\n",
       "  </thead>\n",
       "  <tbody>\n",
       "    <tr>\n",
       "      <th>1</th>\n",
       "      <td>2012-03-01T00:06:23+00:00</td>\n",
       "    </tr>\n",
       "    <tr>\n",
       "      <th>2</th>\n",
       "      <td>2012-03-01T00:06:52+00:00</td>\n",
       "    </tr>\n",
       "    <tr>\n",
       "      <th>3</th>\n",
       "      <td>2012-03-01T00:11:23+00:00</td>\n",
       "    </tr>\n",
       "    <tr>\n",
       "      <th>4</th>\n",
       "      <td>2012-03-01T00:12:47+00:00</td>\n",
       "    </tr>\n",
       "    <tr>\n",
       "      <th>5</th>\n",
       "      <td>2012-03-01T00:12:54+00:00</td>\n",
       "    </tr>\n",
       "    <tr>\n",
       "      <th>6</th>\n",
       "      <td>2012-03-01T00:16:14+00:00</td>\n",
       "    </tr>\n",
       "    <tr>\n",
       "      <th>7</th>\n",
       "      <td>2012-03-01T00:17:31+00:00</td>\n",
       "    </tr>\n",
       "    <tr>\n",
       "      <th>8</th>\n",
       "      <td>2012-03-01T00:21:23+00:00</td>\n",
       "    </tr>\n",
       "    <tr>\n",
       "      <th>9</th>\n",
       "      <td>2012-03-01T00:21:26+00:00</td>\n",
       "    </tr>\n",
       "    <tr>\n",
       "      <th>10</th>\n",
       "      <td>2012-03-01T00:22:25+00:00</td>\n",
       "    </tr>\n",
       "  </tbody>\n",
       "</table>\n",
       "</div>"
      ],
      "text/plain": [
       "                            0\n",
       "1   2012-03-01T00:06:23+00:00\n",
       "2   2012-03-01T00:06:52+00:00\n",
       "3   2012-03-01T00:11:23+00:00\n",
       "4   2012-03-01T00:12:47+00:00\n",
       "5   2012-03-01T00:12:54+00:00\n",
       "6   2012-03-01T00:16:14+00:00\n",
       "7   2012-03-01T00:17:31+00:00\n",
       "8   2012-03-01T00:21:23+00:00\n",
       "9   2012-03-01T00:21:26+00:00\n",
       "10  2012-03-01T00:22:25+00:00"
      ]
     },
     "execution_count": 258,
     "metadata": {},
     "output_type": "execute_result"
    }
   ],
   "source": [
    "import pandas as pd\n",
    "j = pd.read_json('data/uber.json')\n",
    "j.loc[1:10]"
   ]
  },
  {
   "cell_type": "code",
   "execution_count": 259,
   "metadata": {
    "collapsed": false
   },
   "outputs": [
    {
     "data": {
      "text/plain": [
       "unicode"
      ]
     },
     "execution_count": 259,
     "metadata": {},
     "output_type": "execute_result"
    }
   ],
   "source": [
    "type(j.loc[1,0])"
   ]
  },
  {
   "cell_type": "code",
   "execution_count": 260,
   "metadata": {
    "collapsed": false
   },
   "outputs": [
    {
     "data": {
      "text/html": [
       "<div style=\"max-height:1000px;max-width:1500px;overflow:auto;\">\n",
       "<table border=\"1\" class=\"dataframe\">\n",
       "  <thead>\n",
       "    <tr style=\"text-align: right;\">\n",
       "      <th></th>\n",
       "      <th>0</th>\n",
       "      <th>Date</th>\n",
       "    </tr>\n",
       "  </thead>\n",
       "  <tbody>\n",
       "    <tr>\n",
       "      <th>0</th>\n",
       "      <td>2012-03-01T00:05:55+00:00</td>\n",
       "      <td>2012-03-01 00:05:55</td>\n",
       "    </tr>\n",
       "    <tr>\n",
       "      <th>1</th>\n",
       "      <td>2012-03-01T00:06:23+00:00</td>\n",
       "      <td>2012-03-01 00:06:23</td>\n",
       "    </tr>\n",
       "    <tr>\n",
       "      <th>2</th>\n",
       "      <td>2012-03-01T00:06:52+00:00</td>\n",
       "      <td>2012-03-01 00:06:52</td>\n",
       "    </tr>\n",
       "    <tr>\n",
       "      <th>3</th>\n",
       "      <td>2012-03-01T00:11:23+00:00</td>\n",
       "      <td>2012-03-01 00:11:23</td>\n",
       "    </tr>\n",
       "    <tr>\n",
       "      <th>4</th>\n",
       "      <td>2012-03-01T00:12:47+00:00</td>\n",
       "      <td>2012-03-01 00:12:47</td>\n",
       "    </tr>\n",
       "  </tbody>\n",
       "</table>\n",
       "</div>"
      ],
      "text/plain": [
       "                           0                Date\n",
       "0  2012-03-01T00:05:55+00:00 2012-03-01 00:05:55\n",
       "1  2012-03-01T00:06:23+00:00 2012-03-01 00:06:23\n",
       "2  2012-03-01T00:06:52+00:00 2012-03-01 00:06:52\n",
       "3  2012-03-01T00:11:23+00:00 2012-03-01 00:11:23\n",
       "4  2012-03-01T00:12:47+00:00 2012-03-01 00:12:47"
      ]
     },
     "execution_count": 260,
     "metadata": {},
     "output_type": "execute_result"
    }
   ],
   "source": [
    "df = pd.DataFrame(j)\n",
    "df['Date'] = pd.to_datetime(df[0])\n",
    "df.head()"
   ]
  },
  {
   "cell_type": "code",
   "execution_count": 261,
   "metadata": {
    "collapsed": false
   },
   "outputs": [
    {
     "data": {
      "text/plain": [
       "pandas.tslib.Timestamp"
      ]
     },
     "execution_count": 261,
     "metadata": {},
     "output_type": "execute_result"
    }
   ],
   "source": [
    "type(df.loc[1,'Date'])"
   ]
  },
  {
   "cell_type": "code",
   "execution_count": 262,
   "metadata": {
    "collapsed": false
   },
   "outputs": [
    {
     "data": {
      "text/html": [
       "<div style=\"max-height:1000px;max-width:1500px;overflow:auto;\">\n",
       "<table border=\"1\" class=\"dataframe\">\n",
       "  <thead>\n",
       "    <tr style=\"text-align: right;\">\n",
       "      <th></th>\n",
       "      <th>Count</th>\n",
       "    </tr>\n",
       "    <tr>\n",
       "      <th>Date</th>\n",
       "      <th></th>\n",
       "    </tr>\n",
       "  </thead>\n",
       "  <tbody>\n",
       "    <tr>\n",
       "      <th>2012-03-01 00:05:55</th>\n",
       "      <td>1</td>\n",
       "    </tr>\n",
       "    <tr>\n",
       "      <th>2012-03-01 00:06:23</th>\n",
       "      <td>1</td>\n",
       "    </tr>\n",
       "    <tr>\n",
       "      <th>2012-03-01 00:06:52</th>\n",
       "      <td>1</td>\n",
       "    </tr>\n",
       "    <tr>\n",
       "      <th>2012-03-01 00:11:23</th>\n",
       "      <td>1</td>\n",
       "    </tr>\n",
       "    <tr>\n",
       "      <th>2012-03-01 00:12:47</th>\n",
       "      <td>1</td>\n",
       "    </tr>\n",
       "  </tbody>\n",
       "</table>\n",
       "</div>"
      ],
      "text/plain": [
       "                     Count\n",
       "Date                      \n",
       "2012-03-01 00:05:55      1\n",
       "2012-03-01 00:06:23      1\n",
       "2012-03-01 00:06:52      1\n",
       "2012-03-01 00:11:23      1\n",
       "2012-03-01 00:12:47      1"
      ]
     },
     "execution_count": 262,
     "metadata": {},
     "output_type": "execute_result"
    }
   ],
   "source": [
    "df['Count'] = 1\n",
    "df = df.set_index('Date').drop(0, axis=1)\n",
    "df.head()"
   ]
  },
  {
   "cell_type": "code",
   "execution_count": 263,
   "metadata": {
    "collapsed": false
   },
   "outputs": [
    {
     "data": {
      "text/html": [
       "<div style=\"max-height:1000px;max-width:1500px;overflow:auto;\">\n",
       "<table border=\"1\" class=\"dataframe\">\n",
       "  <thead>\n",
       "    <tr style=\"text-align: right;\">\n",
       "      <th></th>\n",
       "      <th>Date</th>\n",
       "      <th>Count</th>\n",
       "    </tr>\n",
       "  </thead>\n",
       "  <tbody>\n",
       "    <tr>\n",
       "      <th>0</th>\n",
       "      <td>2012-03-01 00:00:00</td>\n",
       "      <td>31</td>\n",
       "    </tr>\n",
       "    <tr>\n",
       "      <th>1</th>\n",
       "      <td>2012-03-01 01:00:00</td>\n",
       "      <td>18</td>\n",
       "    </tr>\n",
       "    <tr>\n",
       "      <th>2</th>\n",
       "      <td>2012-03-01 02:00:00</td>\n",
       "      <td>37</td>\n",
       "    </tr>\n",
       "    <tr>\n",
       "      <th>3</th>\n",
       "      <td>2012-03-01 03:00:00</td>\n",
       "      <td>23</td>\n",
       "    </tr>\n",
       "    <tr>\n",
       "      <th>4</th>\n",
       "      <td>2012-03-01 04:00:00</td>\n",
       "      <td>14</td>\n",
       "    </tr>\n",
       "  </tbody>\n",
       "</table>\n",
       "</div>"
      ],
      "text/plain": [
       "                 Date  Count\n",
       "0 2012-03-01 00:00:00     31\n",
       "1 2012-03-01 01:00:00     18\n",
       "2 2012-03-01 02:00:00     37\n",
       "3 2012-03-01 03:00:00     23\n",
       "4 2012-03-01 04:00:00     14"
      ]
     },
     "execution_count": 263,
     "metadata": {},
     "output_type": "execute_result"
    }
   ],
   "source": [
    "resamp = df.resample('H', how=sum)\n",
    "resamp.reset_index(drop=False, inplace=True)\n",
    "resamp.head()"
   ]
  },
  {
   "cell_type": "code",
   "execution_count": 264,
   "metadata": {
    "collapsed": false
   },
   "outputs": [
    {
     "data": {
      "text/plain": [
       "<matplotlib.axes._subplots.AxesSubplot at 0x2575fbe0>"
      ]
     },
     "execution_count": 264,
     "metadata": {},
     "output_type": "execute_result"
    },
    {
     "data": {
      "image/png": "[encoded data removed]",
      "text/plain": [
       "<matplotlib.figure.Figure at 0x24faf898>"
      ]
     },
     "metadata": {},
     "output_type": "display_data"
    }
   ],
   "source": [
    "%matplotlib inline\n",
    "resamp.plot()"
   ]
  },
  {
   "cell_type": "code",
   "execution_count": 265,
   "metadata": {
    "collapsed": false
   },
   "outputs": [
    {
     "data": {
      "text/html": [
       "<div style=\"max-height:1000px;max-width:1500px;overflow:auto;\">\n",
       "<table border=\"1\" class=\"dataframe\">\n",
       "  <thead>\n",
       "    <tr style=\"text-align: right;\">\n",
       "      <th></th>\n",
       "      <th>Date</th>\n",
       "      <th>Count</th>\n",
       "    </tr>\n",
       "  </thead>\n",
       "  <tbody>\n",
       "    <tr>\n",
       "      <th>0</th>\n",
       "      <td>2012-03-01</td>\n",
       "      <td>268</td>\n",
       "    </tr>\n",
       "    <tr>\n",
       "      <th>1</th>\n",
       "      <td>2012-03-02</td>\n",
       "      <td>314</td>\n",
       "    </tr>\n",
       "    <tr>\n",
       "      <th>2</th>\n",
       "      <td>2012-03-03</td>\n",
       "      <td>521</td>\n",
       "    </tr>\n",
       "    <tr>\n",
       "      <th>3</th>\n",
       "      <td>2012-03-04</td>\n",
       "      <td>499</td>\n",
       "    </tr>\n",
       "    <tr>\n",
       "      <th>4</th>\n",
       "      <td>2012-03-05</td>\n",
       "      <td>202</td>\n",
       "    </tr>\n",
       "  </tbody>\n",
       "</table>\n",
       "</div>"
      ],
      "text/plain": [
       "        Date  Count\n",
       "0 2012-03-01    268\n",
       "1 2012-03-02    314\n",
       "2 2012-03-03    521\n",
       "3 2012-03-04    499\n",
       "4 2012-03-05    202"
      ]
     },
     "execution_count": 265,
     "metadata": {},
     "output_type": "execute_result"
    }
   ],
   "source": [
    "resamp2 = df.resample('D', how=sum)\n",
    "resamp2.reset_index(drop=False, inplace=True)\n",
    "resamp2.head()"
   ]
  },
  {
   "cell_type": "code",
   "execution_count": 266,
   "metadata": {
    "collapsed": false
   },
   "outputs": [
    {
     "data": {
      "text/plain": [
       "<matplotlib.axes._subplots.AxesSubplot at 0x25769c88>"
      ]
     },
     "execution_count": 266,
     "metadata": {},
     "output_type": "execute_result"
    },
    {
     "data": {
      "image/png": "[encoded data removed]",
      "text/plain": [
       "<matplotlib.figure.Figure at 0x258bba90>"
      ]
     },
     "metadata": {},
     "output_type": "display_data"
    }
   ],
   "source": [
    "resamp2.plot()"
   ]
  },
  {
   "cell_type": "code",
   "execution_count": 267,
   "metadata": {
    "collapsed": false
   },
   "outputs": [
    {
     "data": {
      "text/html": [
       "<div style=\"max-height:1000px;max-width:1500px;overflow:auto;\">\n",
       "<table border=\"1\" class=\"dataframe\">\n",
       "  <thead>\n",
       "    <tr style=\"text-align: right;\">\n",
       "      <th></th>\n",
       "      <th>Date</th>\n",
       "      <th>Count</th>\n",
       "    </tr>\n",
       "  </thead>\n",
       "  <tbody>\n",
       "    <tr>\n",
       "      <th>38</th>\n",
       "      <td>2012-04-08</td>\n",
       "      <td>473</td>\n",
       "    </tr>\n",
       "  </tbody>\n",
       "</table>\n",
       "</div>"
      ],
      "text/plain": [
       "         Date  Count\n",
       "38 2012-04-08    473"
      ]
     },
     "execution_count": 267,
     "metadata": {},
     "output_type": "execute_result"
    }
   ],
   "source": [
    "resamp2.loc[resamp2['Count'] == resamp2['Count'].max(), 'Date']\n",
    "resamp2.loc[resamp2['Date'] == '2012-04-08']"
   ]
  },
  {
   "cell_type": "code",
   "execution_count": 268,
   "metadata": {
    "collapsed": false
   },
   "outputs": [
    {
     "data": {
      "text/html": [
       "<div style=\"max-height:1000px;max-width:1500px;overflow:auto;\">\n",
       "<table border=\"1\" class=\"dataframe\">\n",
       "  <thead>\n",
       "    <tr style=\"text-align: right;\">\n",
       "      <th></th>\n",
       "      <th>Date</th>\n",
       "      <th>Count</th>\n",
       "    </tr>\n",
       "  </thead>\n",
       "  <tbody>\n",
       "  </tbody>\n",
       "</table>\n",
       "</div>"
      ],
      "text/plain": [
       "Empty DataFrame\n",
       "Columns: [Date, Count]\n",
       "Index: []"
      ]
     },
     "execution_count": 268,
     "metadata": {},
     "output_type": "execute_result"
    }
   ],
   "source": [
    "from pandas.tseries.holiday import USFederalHolidayCalendar as calendar\n",
    "holidays = calendar().holidays(start=resamp2['Date'].min(), end=resamp2['Date'].max())\n",
    "resamp2['Holiday?'] = resamp2['Date'].isin(holidays)\n",
    "resamp2.loc[resamp2['Holiday?'] == True, 'Date':'Count']"
   ]
  },
  {
   "cell_type": "code",
   "execution_count": 269,
   "metadata": {
    "collapsed": false
   },
   "outputs": [
    {
     "data": {
      "text/plain": [
       "0L"
      ]
     },
     "execution_count": 269,
     "metadata": {},
     "output_type": "execute_result"
    }
   ],
   "source": [
    "holidays.shape[0]"
   ]
  },
  {
   "cell_type": "markdown",
   "metadata": {},
   "source": [
    "A quick check of the observances and holidays from this [site](http://www.timeanddate.com/holidays/us/2012) shows that there are no special events the area that could have directly caused the abberant spike on the 22nd of April (or on any date of that week, for that matter). Because of this, we can surmise that the data is neutral with regards to holidays (which removes the need to convert the UTC timestamps to WAS-timezone format) and that they don't need to be considered as another feature of this dataset."
   ]
  },
  {
   "cell_type": "code",
   "execution_count": 270,
   "metadata": {
    "collapsed": false
   },
   "outputs": [
    {
     "data": {
      "text/html": [
       "<div style=\"max-height:1000px;max-width:1500px;overflow:auto;\">\n",
       "<table border=\"1\" class=\"dataframe\">\n",
       "  <thead>\n",
       "    <tr style=\"text-align: right;\">\n",
       "      <th></th>\n",
       "      <th>Date</th>\n",
       "      <th>Count</th>\n",
       "      <th>DoW</th>\n",
       "      <th>Hour</th>\n",
       "    </tr>\n",
       "  </thead>\n",
       "  <tbody>\n",
       "    <tr>\n",
       "      <th>0</th>\n",
       "      <td>2012-03-01 00:00:00</td>\n",
       "      <td>31</td>\n",
       "      <td>4</td>\n",
       "      <td>1</td>\n",
       "    </tr>\n",
       "    <tr>\n",
       "      <th>1</th>\n",
       "      <td>2012-03-01 01:00:00</td>\n",
       "      <td>18</td>\n",
       "      <td>4</td>\n",
       "      <td>2</td>\n",
       "    </tr>\n",
       "    <tr>\n",
       "      <th>2</th>\n",
       "      <td>2012-03-01 02:00:00</td>\n",
       "      <td>37</td>\n",
       "      <td>4</td>\n",
       "      <td>3</td>\n",
       "    </tr>\n",
       "    <tr>\n",
       "      <th>3</th>\n",
       "      <td>2012-03-01 03:00:00</td>\n",
       "      <td>23</td>\n",
       "      <td>4</td>\n",
       "      <td>4</td>\n",
       "    </tr>\n",
       "    <tr>\n",
       "      <th>4</th>\n",
       "      <td>2012-03-01 04:00:00</td>\n",
       "      <td>14</td>\n",
       "      <td>4</td>\n",
       "      <td>5</td>\n",
       "    </tr>\n",
       "  </tbody>\n",
       "</table>\n",
       "</div>"
      ],
      "text/plain": [
       "                 Date  Count  DoW  Hour\n",
       "0 2012-03-01 00:00:00     31    4     1\n",
       "1 2012-03-01 01:00:00     18    4     2\n",
       "2 2012-03-01 02:00:00     37    4     3\n",
       "3 2012-03-01 03:00:00     23    4     4\n",
       "4 2012-03-01 04:00:00     14    4     5"
      ]
     },
     "execution_count": 270,
     "metadata": {},
     "output_type": "execute_result"
    }
   ],
   "source": [
    "# The +1 part is needed to avoid zero.\n",
    "# This means 1 is Monday for DoW.\n",
    "# 0000H - 0100H is 1 as well.\n",
    "_get_day_of_wk = lambda x:x.weekday() + 1\n",
    "_get_hour = lambda x:x.hour + 1\n",
    "# Use resamp, since that has the hourly data.\n",
    "resamp['DoW'] = resamp['Date'].apply(_get_day_of_wk)\n",
    "resamp['Hour'] = resamp['Date'].apply(_get_hour)\n",
    "resamp.head()"
   ]
  },
  {
   "cell_type": "code",
   "execution_count": 271,
   "metadata": {
    "collapsed": false
   },
   "outputs": [
    {
     "data": {
      "text/html": [
       "<div style=\"max-height:1000px;max-width:1500px;overflow:auto;\">\n",
       "<table border=\"1\" class=\"dataframe\">\n",
       "  <thead>\n",
       "    <tr style=\"text-align: right;\">\n",
       "      <th></th>\n",
       "      <th>Mo</th>\n",
       "      <th>Tu</th>\n",
       "      <th>We</th>\n",
       "      <th>Th</th>\n",
       "      <th>Fr</th>\n",
       "      <th>Sa</th>\n",
       "      <th>Su</th>\n",
       "    </tr>\n",
       "    <tr>\n",
       "      <th>Hour</th>\n",
       "      <th></th>\n",
       "      <th></th>\n",
       "      <th></th>\n",
       "      <th></th>\n",
       "      <th></th>\n",
       "      <th></th>\n",
       "      <th></th>\n",
       "    </tr>\n",
       "  </thead>\n",
       "  <tbody>\n",
       "    <tr>\n",
       "      <th>1</th>\n",
       "      <td>181</td>\n",
       "      <td>116</td>\n",
       "      <td>158</td>\n",
       "      <td>184</td>\n",
       "      <td>236</td>\n",
       "      <td>330</td>\n",
       "      <td>462</td>\n",
       "    </tr>\n",
       "    <tr>\n",
       "      <th>2</th>\n",
       "      <td>153</td>\n",
       "      <td>153</td>\n",
       "      <td>166</td>\n",
       "      <td>212</td>\n",
       "      <td>242</td>\n",
       "      <td>359</td>\n",
       "      <td>426</td>\n",
       "    </tr>\n",
       "    <tr>\n",
       "      <th>3</th>\n",
       "      <td>160</td>\n",
       "      <td>155</td>\n",
       "      <td>154</td>\n",
       "      <td>236</td>\n",
       "      <td>299</td>\n",
       "      <td>380</td>\n",
       "      <td>527</td>\n",
       "    </tr>\n",
       "    <tr>\n",
       "      <th>4</th>\n",
       "      <td>111</td>\n",
       "      <td>98</td>\n",
       "      <td>123</td>\n",
       "      <td>177</td>\n",
       "      <td>229</td>\n",
       "      <td>371</td>\n",
       "      <td>552</td>\n",
       "    </tr>\n",
       "    <tr>\n",
       "      <th>5</th>\n",
       "      <td>69</td>\n",
       "      <td>52</td>\n",
       "      <td>51</td>\n",
       "      <td>109</td>\n",
       "      <td>171</td>\n",
       "      <td>334</td>\n",
       "      <td>449</td>\n",
       "    </tr>\n",
       "  </tbody>\n",
       "</table>\n",
       "</div>"
      ],
      "text/plain": [
       "       Mo   Tu   We   Th   Fr   Sa   Su\n",
       "Hour                                   \n",
       "1     181  116  158  184  236  330  462\n",
       "2     153  153  166  212  242  359  426\n",
       "3     160  155  154  236  299  380  527\n",
       "4     111   98  123  177  229  371  552\n",
       "5      69   52   51  109  171  334  449"
      ]
     },
     "execution_count": 271,
     "metadata": {},
     "output_type": "execute_result"
    }
   ],
   "source": [
    "dow = {\n",
    "    1:'Mo',\n",
    "    2:'Tu',\n",
    "    3:'We',\n",
    "    4:'Th',\n",
    "    5:'Fr',\n",
    "    6:'Sa',\n",
    "    7:'Su'\n",
    "}\n",
    "pivoted = resamp.drop('Date', axis=1).pivot_table(index='Hour', columns='DoW', aggfunc=sum)\n",
    "pivoted.columns = [dow[x] for x in range(1,8)]\n",
    "pivoted.head()"
   ]
  },
  {
   "cell_type": "code",
   "execution_count": 272,
   "metadata": {
    "collapsed": false
   },
   "outputs": [
    {
     "data": {
      "text/plain": [
       "<matplotlib.axes._subplots.AxesSubplot at 0x2599f470>"
      ]
     },
     "execution_count": 272,
     "metadata": {},
     "output_type": "execute_result"
    },
    {
     "data": {
      "image/png": "[encoded data removed]",
      "text/plain": [
       "<matplotlib.figure.Figure at 0x25c1aef0>"
      ]
     },
     "metadata": {},
     "output_type": "display_data"
    }
   ],
   "source": [
    "pivoted.plot()"
   ]
  },
  {
   "cell_type": "code",
   "execution_count": 273,
   "metadata": {
    "collapsed": false
   },
   "outputs": [
    {
     "data": {
      "text/plain": [
       "Mo     89.125000\n",
       "Tu     77.541667\n",
       "We     89.791667\n",
       "Th    119.041667\n",
       "Fr    133.250000\n",
       "Sa    211.000000\n",
       "Su    215.541667\n",
       "dtype: float64"
      ]
     },
     "execution_count": 273,
     "metadata": {},
     "output_type": "execute_result"
    }
   ],
   "source": [
    "pivoted.mean()"
   ]
  },
  {
   "cell_type": "markdown",
   "metadata": {},
   "source": [
    "Originally, I had planned on using linear regression straight up. However, due to the data being of a continuous nature, I cannot really just apply a direct slope-intercept calculation since the demand moves up and down during certain hours. Hours 10 to 20 of each day shows a clear decline in demand, for example. Since Washington is four (4) hours behind the UTC, this would mean that the decline lowers around 6:00AM to 4:00PM every day. One can easily attribute this to work hours during weekdays (less people need to move around while at work) and generally being indoors or not in transit during the same time on weekends.\n",
    "\n",
    "In line of the above observation, I arrive at the conclusion that the classification of a day as a week(work)day or a weekend as well as the particular hour of the day both contribute to the magnitude of the demand. As such, they will be considered as *categorical* variables relative to the count of demand. This means that they modify the ***y*** value of the equation but don't have a linear correlation to it.\n",
    "\n",
    "This begs the question: **which attribute of the data, then, is highly correlated to the trend and transcends the categorization of either the day of week or hour?**\n",
    "\n",
    "Let's try plotting again the original resampled plot, but only take the values for days that fall on **Sunday**."
   ]
  },
  {
   "cell_type": "code",
   "execution_count": 274,
   "metadata": {
    "collapsed": false
   },
   "outputs": [
    {
     "data": {
      "text/plain": [
       "<matplotlib.axes._subplots.AxesSubplot at 0x25cc5518>"
      ]
     },
     "execution_count": 274,
     "metadata": {},
     "output_type": "execute_result"
    },
    {
     "data": {
      "image/png": "[encoded data removed]",
      "text/plain": [
       "<matplotlib.figure.Figure at 0x25ddc400>"
      ]
     },
     "metadata": {},
     "output_type": "display_data"
    }
   ],
   "source": [
    "y = resamp.loc[resamp['DoW'] == 7, 'Count'].reset_index(drop=True)\n",
    "y.plot()"
   ]
  },
  {
   "cell_type": "code",
   "execution_count": 275,
   "metadata": {
    "collapsed": false
   },
   "outputs": [
    {
     "data": {
      "text/plain": [
       "\n",
       "-------------------------Summary of Regression Analysis-------------------------\n",
       "\n",
       "Formula: Y ~ <x> + <intercept>\n",
       "\n",
       "Number of Observations:         212\n",
       "Number of Degrees of Freedom:   2\n",
       "\n",
       "R-squared:         0.0172\n",
       "Adj R-squared:     0.0126\n",
       "\n",
       "Rmse:             19.1618\n",
       "\n",
       "F-stat (1, 210):     3.6829, p-value:     0.0563\n",
       "\n",
       "Degrees of Freedom: model 1, resid 210\n",
       "\n",
       "-----------------------Summary of Estimated Coefficients------------------------\n",
       "      Variable       Coef    Std Err     t-stat    p-value    CI 2.5%   CI 97.5%\n",
       "--------------------------------------------------------------------------------\n",
       "             x     0.0403     0.0210       1.92     0.0563    -0.0009     0.0816\n",
       "     intercept    20.0995     2.5992       7.73     0.0000    15.0051    25.1939\n",
       "---------------------------------End of Summary---------------------------------"
      ]
     },
     "execution_count": 275,
     "metadata": {},
     "output_type": "execute_result"
    }
   ],
   "source": [
    "pd.ols(y=y, x=pd.Series(range(y.shape[0])), intercept=True)"
   ]
  },
  {
   "cell_type": "markdown",
   "metadata": {},
   "source": [
    "Both the **x** and **intercept** are positive, which means that the demand for Sundays increase over time. Let's test this some more with both Saturdays and Mondays and see if the trend generally holds."
   ]
  },
  {
   "cell_type": "code",
   "execution_count": 276,
   "metadata": {
    "collapsed": false
   },
   "outputs": [
    {
     "data": {
      "text/plain": [
       "x             0.050309\n",
       "intercept    18.036226\n",
       "dtype: float64"
      ]
     },
     "execution_count": 276,
     "metadata": {},
     "output_type": "execute_result"
    }
   ],
   "source": [
    "# Saturdays.\n",
    "y1 = resamp.loc[resamp['DoW'] == 6, 'Count'].reset_index(drop=True)\n",
    "model = pd.ols(y=y1, x=pd.Series(range(y1.shape[0])), intercept=True)\n",
    "model.beta"
   ]
  },
  {
   "cell_type": "code",
   "execution_count": 277,
   "metadata": {
    "collapsed": false
   },
   "outputs": [
    {
     "data": {
      "text/plain": [
       "x            0.024412\n",
       "intercept    7.353612\n",
       "dtype: float64"
      ]
     },
     "execution_count": 277,
     "metadata": {},
     "output_type": "execute_result"
    }
   ],
   "source": [
    "# Mondays.\n",
    "y2 = resamp.loc[resamp['DoW'] == 1, 'Count'].reset_index(drop=True)\n",
    "model = pd.ols(y=y2, x=pd.Series(range(y2.shape[0])), intercept=True)\n",
    "model.beta"
   ]
  },
  {
   "cell_type": "markdown",
   "metadata": {},
   "source": [
    "There's no need to explicitly show the result of the other tests at this point--the trend holds for each day.\n",
    "\n",
    "What we have arrived at here is very simple: over time, even if ever so slightly, the demand increases. One can attribute this to either a growing user base for Uber or the immense proliferation of smartphones (which will inadvertently increase the logins to the Uber app, intentionally or otherwise). For purposes of our prediction, however, it is safe to assume that *as time goes forward, demand goes up*. In essence, the dates themselves are our continuous variable.\n",
    "\n",
    "Because of this, we can design our model to use the number of days since the beginning of epoch as our **x**. The logic behind this is explained elsewhere but for our purposes, this will greatly reduce the encumbrance of having to deal with numbers of a large magnitude.\n",
    "\n",
    "Our next approach is to add an additional column to our resampled data that shows the days since the beginning of the epoch for each date."
   ]
  },
  {
   "cell_type": "code",
   "execution_count": 278,
   "metadata": {
    "collapsed": false
   },
   "outputs": [
    {
     "data": {
      "text/html": [
       "<div style=\"max-height:1000px;max-width:1500px;overflow:auto;\">\n",
       "<table border=\"1\" class=\"dataframe\">\n",
       "  <thead>\n",
       "    <tr style=\"text-align: right;\">\n",
       "      <th></th>\n",
       "      <th>Date</th>\n",
       "      <th>Count</th>\n",
       "      <th>DoW</th>\n",
       "      <th>Hour</th>\n",
       "      <th>DsE</th>\n",
       "    </tr>\n",
       "  </thead>\n",
       "  <tbody>\n",
       "    <tr>\n",
       "      <th>0</th>\n",
       "      <td>2012-03-01 00:00:00</td>\n",
       "      <td>31</td>\n",
       "      <td>4</td>\n",
       "      <td>1</td>\n",
       "      <td>15400</td>\n",
       "    </tr>\n",
       "    <tr>\n",
       "      <th>1</th>\n",
       "      <td>2012-03-01 01:00:00</td>\n",
       "      <td>18</td>\n",
       "      <td>4</td>\n",
       "      <td>2</td>\n",
       "      <td>15400</td>\n",
       "    </tr>\n",
       "    <tr>\n",
       "      <th>2</th>\n",
       "      <td>2012-03-01 02:00:00</td>\n",
       "      <td>37</td>\n",
       "      <td>4</td>\n",
       "      <td>3</td>\n",
       "      <td>15400</td>\n",
       "    </tr>\n",
       "    <tr>\n",
       "      <th>3</th>\n",
       "      <td>2012-03-01 03:00:00</td>\n",
       "      <td>23</td>\n",
       "      <td>4</td>\n",
       "      <td>4</td>\n",
       "      <td>15400</td>\n",
       "    </tr>\n",
       "    <tr>\n",
       "      <th>4</th>\n",
       "      <td>2012-03-01 04:00:00</td>\n",
       "      <td>14</td>\n",
       "      <td>4</td>\n",
       "      <td>5</td>\n",
       "      <td>15400</td>\n",
       "    </tr>\n",
       "  </tbody>\n",
       "</table>\n",
       "</div>"
      ],
      "text/plain": [
       "                 Date  Count  DoW  Hour    DsE\n",
       "0 2012-03-01 00:00:00     31    4     1  15400\n",
       "1 2012-03-01 01:00:00     18    4     2  15400\n",
       "2 2012-03-01 02:00:00     37    4     3  15400\n",
       "3 2012-03-01 03:00:00     23    4     4  15400\n",
       "4 2012-03-01 04:00:00     14    4     5  15400"
      ]
     },
     "execution_count": 278,
     "metadata": {},
     "output_type": "execute_result"
    }
   ],
   "source": [
    "from datetime import datetime\n",
    "_get_days_since_epoch = lambda x:(x - datetime.utcfromtimestamp(0)).days\n",
    "resamp['DsE'] = resamp['Date'].apply(_get_days_since_epoch)\n",
    "resamp.head()"
   ]
  },
  {
   "cell_type": "markdown",
   "metadata": {},
   "source": [
    "Now that our data's set up, we can now move on to trying to apply a linear regression model using ordinary least squares (OLS) to create a regressor/predictor.\n",
    "\n",
    "Remember that both **DoW** and **Hour** are categorical variables and **DsE** is continuous. We will be dropping the **Date** column and we'll create a formula that represents the relationship of our columns. Also, to prevent the data from being discontinuous, we'll fill the **Count** field of records without demand with **0** as they originally show **NaN**."
   ]
  },
  {
   "cell_type": "code",
   "execution_count": 279,
   "metadata": {
    "collapsed": false
   },
   "outputs": [
    {
     "data": {
      "text/html": [
       "<div style=\"max-height:1000px;max-width:1500px;overflow:auto;\">\n",
       "<table border=\"1\" class=\"dataframe\">\n",
       "  <thead>\n",
       "    <tr style=\"text-align: right;\">\n",
       "      <th></th>\n",
       "      <th>Count</th>\n",
       "      <th>DoW</th>\n",
       "      <th>Hour</th>\n",
       "      <th>DsE</th>\n",
       "    </tr>\n",
       "  </thead>\n",
       "  <tbody>\n",
       "  </tbody>\n",
       "</table>\n",
       "</div>"
      ],
      "text/plain": [
       "Empty DataFrame\n",
       "Columns: [Count, DoW, Hour, DsE]\n",
       "Index: []"
      ]
     },
     "execution_count": 279,
     "metadata": {},
     "output_type": "execute_result"
    }
   ],
   "source": [
    "resamp.drop('Date', axis=1, inplace=True)\n",
    "resamp.fillna(0, inplace=True)\n",
    "resamp[resamp['Count'].isnull()]"
   ]
  },
  {
   "cell_type": "code",
   "execution_count": 282,
   "metadata": {
    "collapsed": false
   },
   "outputs": [],
   "source": [
    "import statsmodels.formula.api as sm\n",
    "f0 = 'Count ~ DsE + C(DoW):C(Hour)'\n",
    "regressor = sm.ols(formula=f0, data=resamp)"
   ]
  },
  {
   "cell_type": "code",
   "execution_count": null,
   "metadata": {
    "collapsed": true
   },
   "outputs": [],
   "source": []
  }
 ],
 "metadata": {
  "kernelspec": {
   "display_name": "Python 2",
   "language": "python",
   "name": "python2"
  },
  "language_info": {
   "codemirror_mode": {
    "name": "ipython",
    "version": 2
   },
   "file_extension": ".py",
   "mimetype": "text/x-python",
   "name": "python",
   "nbconvert_exporter": "python",
   "pygments_lexer": "ipython2",
   "version": "2.7.8"
  }
 },
 "nbformat": 4,
 "nbformat_minor": 0
}
